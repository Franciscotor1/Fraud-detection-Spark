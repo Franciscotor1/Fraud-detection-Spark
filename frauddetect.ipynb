{
  "nbformat": 4,
  "nbformat_minor": 0,
  "metadata": {
    "colab": {
      "provenance": [],
      "authorship_tag": "ABX9TyM1D9t1CHliK0sx22FxTYqM",
      "include_colab_link": true
    },
    "kernelspec": {
      "name": "python3",
      "display_name": "Python 3"
    },
    "language_info": {
      "name": "python"
    }
  },
  "cells": [
    {
      "cell_type": "markdown",
      "metadata": {
        "id": "view-in-github",
        "colab_type": "text"
      },
      "source": [
        "<a href=\"https://colab.research.google.com/github/Franciscotor1/Fraud-detection-Spark/blob/master/frauddetect.ipynb\" target=\"_parent\"><img src=\"https://colab.research.google.com/assets/colab-badge.svg\" alt=\"Open In Colab\"/></a>"
      ]
    },
    {
      "cell_type": "code",
      "execution_count": null,
      "metadata": {
        "id": "0R5FWRmQNwh7"
      },
      "outputs": [],
      "source": [
        "# Instala Java\n",
        "!apt-get install openjdk-8-jdk-headless -qq > /dev/null\n",
        "\n",
        "# Descarga e instala Apache Spark\n",
        "!wget -q https://archive.apache.org/dist/spark/spark-3.1.2/spark-3.1.2-bin-hadoop3.2.tgz\n",
        "!tar xf spark-3.1.2-bin-hadoop3.2.tgz\n",
        "!pip install -q findspark\n",
        "\n",
        "# Configura las variables de entorno\n",
        "import os\n",
        "os.environ[\"JAVA_HOME\"] = \"/usr/lib/jvm/java-8-openjdk-amd64\"\n",
        "os.environ[\"SPARK_HOME\"] = \"/content/spark-3.1.2-bin-hadoop3.2\"\n",
        "\n",
        "# Añade Spark al sistema\n",
        "import findspark\n",
        "findspark.init()\n",
        "\n",
        "# Crea una sesión Spark\n",
        "from pyspark.sql import SparkSession\n",
        "spark = SparkSession.builder.master(\"local[*]\").appName(\"example\").getOrCreate()\n"
      ]
    },
    {
      "cell_type": "code",
      "source": [
        "from pyspark.sql import SparkSession\n",
        "\n",
        "# Crear una sesión de Spark\n",
        "spark = SparkSession.builder.appName(\"FraudDetection\").getOrCreate()\n",
        "\n",
        "# Cargar el conjunto de datos desde el archivo CSV en Colab\n",
        "file_path = \"Fraud-content.csv\"  # Asegúrate de que el archivo esté en el mismo directorio que tu notebook Colab\n",
        "df = spark.read.csv(file_path, header=True, inferSchema=True)\n",
        "\n",
        "# Mostrar el esquema y las primeras filas del DataFrame\n",
        "df.printSchema()\n",
        "df.show(5)\n"
      ],
      "metadata": {
        "colab": {
          "base_uri": "https://localhost:8080/"
        },
        "id": "ynGdZr4pOCoO",
        "outputId": "52cbc4a5-cf6d-4092-be18-15c94ce2f1c5"
      },
      "execution_count": null,
      "outputs": [
        {
          "output_type": "stream",
          "name": "stdout",
          "text": [
            "root\n",
            " |-- step: integer (nullable = true)\n",
            " |-- type: string (nullable = true)\n",
            " |-- amount: double (nullable = true)\n",
            " |-- nameOrig: string (nullable = true)\n",
            " |-- oldbalanceOrg: double (nullable = true)\n",
            " |-- newbalanceOrig: double (nullable = true)\n",
            " |-- nameDest: string (nullable = true)\n",
            " |-- oldbalanceDest: double (nullable = true)\n",
            " |-- newbalanceDest: double (nullable = true)\n",
            " |-- isFraud: integer (nullable = true)\n",
            " |-- isFlaggedFraud: integer (nullable = true)\n",
            "\n",
            "+----+--------+--------+-----------+-------------+--------------+-----------+--------------+--------------+-------+--------------+\n",
            "|step|    type|  amount|   nameOrig|oldbalanceOrg|newbalanceOrig|   nameDest|oldbalanceDest|newbalanceDest|isFraud|isFlaggedFraud|\n",
            "+----+--------+--------+-----------+-------------+--------------+-----------+--------------+--------------+-------+--------------+\n",
            "|   1| PAYMENT| 9839.64|C1231006815|     170136.0|     160296.36|M1979787155|           0.0|           0.0|      0|             0|\n",
            "|   1| PAYMENT| 1864.28|C1666544295|      21249.0|      19384.72|M2044282225|           0.0|           0.0|      0|             0|\n",
            "|   1|TRANSFER|   181.0|C1305486145|        181.0|           0.0| C553264065|           0.0|           0.0|      1|             0|\n",
            "|   1|CASH_OUT|   181.0| C840083671|        181.0|           0.0|  C38997010|       21182.0|           0.0|      1|             0|\n",
            "|   1| PAYMENT|11668.14|C2048537720|      41554.0|      29885.86|M1230701703|           0.0|           0.0|      0|             0|\n",
            "+----+--------+--------+-----------+-------------+--------------+-----------+--------------+--------------+-------+--------------+\n",
            "only showing top 5 rows\n",
            "\n"
          ]
        }
      ]
    },
    {
      "cell_type": "markdown",
      "source": [
        "Paso 1:\n",
        "Transacciones fraudulentas en el Csv"
      ],
      "metadata": {
        "id": "t3X6RpaGVKKU"
      }
    },
    {
      "cell_type": "code",
      "source": [
        "from pyspark.sql import SparkSession\n",
        "from pyspark.sql.functions import col\n",
        "\n",
        "# Crear una sesión de Spark\n",
        "spark = SparkSession.builder.appName(\"FraudDetection\").getOrCreate()\n",
        "\n",
        "# Cargar el conjunto de datos desde el archivo CSV en Colab\n",
        "file_path = \"Fraud-content.csv\"\n",
        "df = spark.read.csv(file_path, header=True, inferSchema=True)\n",
        "\n",
        "# Filtrar las transacciones fraudulentas\n",
        "fraudulent_transactions = df.filter(col(\"isFraud\") == 1)\n",
        "\n",
        "# Mostrar todas las transacciones fraudulentas\n",
        "fraudulent_transactions.show(truncate=False)\n"
      ],
      "metadata": {
        "colab": {
          "base_uri": "https://localhost:8080/"
        },
        "id": "QIgWFTjfTxPk",
        "outputId": "4a4f82b5-00ed-4ebf-f6f4-afeb6251224c"
      },
      "execution_count": null,
      "outputs": [
        {
          "output_type": "stream",
          "name": "stdout",
          "text": [
            "+----+--------+----------+-----------+-------------+--------------+-----------+--------------+--------------+-------+--------------+\n",
            "|step|type    |amount    |nameOrig   |oldbalanceOrg|newbalanceOrig|nameDest   |oldbalanceDest|newbalanceDest|isFraud|isFlaggedFraud|\n",
            "+----+--------+----------+-----------+-------------+--------------+-----------+--------------+--------------+-------+--------------+\n",
            "|1   |TRANSFER|181.0     |C1305486145|181.0        |0.0           |C553264065 |0.0           |0.0           |1      |0             |\n",
            "|1   |CASH_OUT|181.0     |C840083671 |181.0        |0.0           |C38997010  |21182.0       |0.0           |1      |0             |\n",
            "|1   |TRANSFER|2806.0    |C1420196421|2806.0       |0.0           |C972765878 |0.0           |0.0           |1      |0             |\n",
            "|1   |CASH_OUT|2806.0    |C2101527076|2806.0       |0.0           |C1007251739|26202.0       |0.0           |1      |0             |\n",
            "|1   |TRANSFER|20128.0   |C137533655 |20128.0      |0.0           |C1848415041|0.0           |0.0           |1      |0             |\n",
            "|1   |CASH_OUT|20128.0   |C1118430673|20128.0      |0.0           |C339924917 |6268.0        |12145.85      |1      |0             |\n",
            "|1   |CASH_OUT|416001.33 |C749981943 |0.0          |0.0           |C667346055 |102.0         |9291619.62    |1      |0             |\n",
            "|1   |TRANSFER|1277212.77|C1334405552|1277212.77   |0.0           |C431687661 |0.0           |0.0           |1      |0             |\n",
            "|1   |CASH_OUT|1277212.77|C467632528 |1277212.77   |0.0           |C716083600 |0.0           |2444985.19    |1      |0             |\n",
            "|1   |TRANSFER|35063.63  |C1364127192|35063.63     |0.0           |C1136419747|0.0           |0.0           |1      |0             |\n",
            "|1   |CASH_OUT|35063.63  |C1635772897|35063.63     |0.0           |C1983025922|31140.0       |7550.03       |1      |0             |\n",
            "|1   |TRANSFER|25071.46  |C669700766 |25071.46     |0.0           |C1384210339|0.0           |0.0           |1      |0             |\n",
            "|1   |CASH_OUT|25071.46  |C1275464847|25071.46     |0.0           |C1364913072|9083.76       |34155.22      |1      |0             |\n",
            "|1   |CASH_OUT|132842.64 |C13692003  |4499.08      |0.0           |C297927961 |0.0           |132842.64     |1      |0             |\n",
            "|1   |TRANSFER|235238.66 |C1872047468|235238.66    |0.0           |C116289363 |0.0           |0.0           |1      |0             |\n",
            "|1   |CASH_OUT|235238.66 |C1499825229|235238.66    |0.0           |C2100440237|0.0           |235238.66     |1      |0             |\n",
            "|2   |TRANSFER|1096187.24|C1093223281|1096187.24   |0.0           |C2063275841|0.0           |0.0           |1      |0             |\n",
            "|2   |CASH_OUT|1096187.24|C77163673  |1096187.24   |0.0           |C644345897 |0.0           |1096187.24    |1      |0             |\n",
            "|2   |TRANSFER|963532.14 |C1440057381|963532.14    |0.0           |C268086000 |0.0           |0.0           |1      |0             |\n",
            "|2   |CASH_OUT|963532.14 |C430329518 |963532.14    |0.0           |C991505714 |132382.57     |1095914.71    |1      |0             |\n",
            "+----+--------+----------+-----------+-------------+--------------+-----------+--------------+--------------+-------+--------------+\n",
            "only showing top 20 rows\n",
            "\n"
          ]
        }
      ]
    },
    {
      "cell_type": "code",
      "source": [
        "# A) Montos más Altos de Fraudes\n",
        "highest_fraud_amounts = fraudulent_transactions.orderBy(col(\"amount\").desc())\n",
        "highest_fraud_amounts.show(10, truncate=False)\n"
      ],
      "metadata": {
        "colab": {
          "base_uri": "https://localhost:8080/"
        },
        "id": "8PQAnFrjXuZY",
        "outputId": "ad4b07b4-8ace-4398-e7ae-3a9bcc6ca10e"
      },
      "execution_count": null,
      "outputs": [
        {
          "output_type": "stream",
          "name": "stdout",
          "text": [
            "+----+--------+----------+-----------+-------------+--------------+-----------+--------------+--------------+-------+--------------+\n",
            "|step|type    |amount    |nameOrig   |oldbalanceOrg|newbalanceOrig|nameDest   |oldbalanceDest|newbalanceDest|isFraud|isFlaggedFraud|\n",
            "+----+--------+----------+-----------+-------------+--------------+-----------+--------------+--------------+-------+--------------+\n",
            "|4   |TRANSFER|1.0E7     |C7162498   |1.293041844E7|2930418.44    |C945327594 |0.0           |0.0           |1      |0             |\n",
            "|19  |CASH_OUT|1.0E7     |C2050703310|1.0E7        |0.0           |C1622860679|504326.62     |1.03424179E7  |1      |0             |\n",
            "|19  |TRANSFER|1.0E7     |C416779475 |1.186100832E7|1861008.32    |C380259496 |0.0           |0.0           |1      |0             |\n",
            "|33  |TRANSFER|1.0E7     |C1439740840|1.988781906E7|9887819.06    |C875288652 |0.0           |0.0           |1      |0             |\n",
            "|33  |CASH_OUT|1.0E7     |C29118015  |1.0E7        |0.0           |C1379703840|0.0           |1.0E7         |1      |0             |\n",
            "|4   |CASH_OUT|1.0E7     |C351297720 |1.0E7        |0.0           |C766681183 |0.0           |9941904.21    |1      |0             |\n",
            "|33  |CASH_OUT|9887819.06|C1071702423|9887819.06   |0.0           |C28783325  |801913.95     |1.016520011E7 |1      |0             |\n",
            "|33  |TRANSFER|9887819.06|C1548903046|9887819.06   |0.0           |C2065423383|0.0           |0.0           |1      |0             |\n",
            "|35  |CASH_OUT|9465988.82|C91276418  |9465988.82   |0.0           |C1220805115|0.0           |9465988.82    |1      |0             |\n",
            "|35  |TRANSFER|9465988.82|C851016578 |9465988.82   |0.0           |C1650562969|0.0           |0.0           |1      |0             |\n",
            "+----+--------+----------+-----------+-------------+--------------+-----------+--------------+--------------+-------+--------------+\n",
            "only showing top 10 rows\n",
            "\n"
          ]
        }
      ]
    },
    {
      "cell_type": "code",
      "source": [
        "# Filtrar las transacciones fraudulentas\n",
        "fraudulent_transactions = df.filter(col(\"isFraud\") == 1)\n",
        "\n",
        "# B) Monto Menos Elevado de Fraudes\n",
        "lowest_fraud_amounts = fraudulent_transactions.orderBy(col(\"amount\"))\n",
        "lowest_fraud_amounts.show(10, truncate=False)\n"
      ],
      "metadata": {
        "id": "WUtcLftiz-9a",
        "colab": {
          "base_uri": "https://localhost:8080/"
        },
        "outputId": "4aecbac2-695e-4cb8-8ac7-22442339dd68"
      },
      "execution_count": null,
      "outputs": [
        {
          "output_type": "stream",
          "name": "stdout",
          "text": [
            "+----+--------+------+-----------+-------------+--------------+-----------+--------------+--------------+-------+--------------+\n",
            "|step|type    |amount|nameOrig   |oldbalanceOrg|newbalanceOrig|nameDest   |oldbalanceDest|newbalanceDest|isFraud|isFlaggedFraud|\n",
            "+----+--------+------+-----------+-------------+--------------+-----------+--------------+--------------+-------+--------------+\n",
            "|15  |CASH_OUT|119.0 |C1584512618|119.0        |0.0           |C2102058838|4844060.13    |4844179.13    |1      |0             |\n",
            "|15  |TRANSFER|119.0 |C1995557473|119.0        |0.0           |C1480876722|0.0           |0.0           |1      |0             |\n",
            "|7   |TRANSFER|164.0 |C1455969984|164.0        |0.0           |C2119910556|0.0           |0.0           |1      |0             |\n",
            "|7   |CASH_OUT|164.0 |C1173659886|164.0        |0.0           |C1769947269|4068.0        |0.0           |1      |0             |\n",
            "|15  |TRANSFER|170.0 |C553034695 |170.0        |0.0           |C26381896  |0.0           |0.0           |1      |0             |\n",
            "|15  |CASH_OUT|170.0 |C1065370362|170.0        |0.0           |C200064275 |413421.36     |345764.15     |1      |0             |\n",
            "|1   |TRANSFER|181.0 |C1305486145|181.0        |0.0           |C553264065 |0.0           |0.0           |1      |0             |\n",
            "|1   |CASH_OUT|181.0 |C840083671 |181.0        |0.0           |C38997010  |21182.0       |0.0           |1      |0             |\n",
            "|8   |CASH_OUT|222.0 |C1737727444|222.0        |0.0           |C588779235 |24708.0       |171647.35     |1      |0             |\n",
            "|8   |TRANSFER|222.0 |C1961506277|222.0        |0.0           |C378841819 |0.0           |267095.19     |1      |0             |\n",
            "+----+--------+------+-----------+-------------+--------------+-----------+--------------+--------------+-------+--------------+\n",
            "only showing top 10 rows\n",
            "\n"
          ]
        }
      ]
    },
    {
      "cell_type": "code",
      "source": [
        "# A) Montos más Altos de Fraudes\n",
        "highest_fraud_amounts = fraudulent_transactions.orderBy(col(\"amount\").desc())\n",
        "highest_fraud_amounts.show(10, truncate=False)\n"
      ],
      "metadata": {
        "colab": {
          "base_uri": "https://localhost:8080/"
        },
        "id": "kvc8aXmi1rUV",
        "outputId": "5aaf99cc-55e1-4607-8bb0-e57c33aaee49"
      },
      "execution_count": null,
      "outputs": [
        {
          "output_type": "stream",
          "name": "stdout",
          "text": [
            "+----+--------+----------+-----------+-------------+--------------+-----------+--------------+--------------+-------+--------------+\n",
            "|step|type    |amount    |nameOrig   |oldbalanceOrg|newbalanceOrig|nameDest   |oldbalanceDest|newbalanceDest|isFraud|isFlaggedFraud|\n",
            "+----+--------+----------+-----------+-------------+--------------+-----------+--------------+--------------+-------+--------------+\n",
            "|4   |TRANSFER|1.0E7     |C7162498   |1.293041844E7|2930418.44    |C945327594 |0.0           |0.0           |1      |0             |\n",
            "|19  |CASH_OUT|1.0E7     |C2050703310|1.0E7        |0.0           |C1622860679|504326.62     |1.03424179E7  |1      |0             |\n",
            "|19  |TRANSFER|1.0E7     |C416779475 |1.186100832E7|1861008.32    |C380259496 |0.0           |0.0           |1      |0             |\n",
            "|33  |TRANSFER|1.0E7     |C1439740840|1.988781906E7|9887819.06    |C875288652 |0.0           |0.0           |1      |0             |\n",
            "|33  |CASH_OUT|1.0E7     |C29118015  |1.0E7        |0.0           |C1379703840|0.0           |1.0E7         |1      |0             |\n",
            "|4   |CASH_OUT|1.0E7     |C351297720 |1.0E7        |0.0           |C766681183 |0.0           |9941904.21    |1      |0             |\n",
            "|33  |CASH_OUT|9887819.06|C1071702423|9887819.06   |0.0           |C28783325  |801913.95     |1.016520011E7 |1      |0             |\n",
            "|33  |TRANSFER|9887819.06|C1548903046|9887819.06   |0.0           |C2065423383|0.0           |0.0           |1      |0             |\n",
            "|35  |CASH_OUT|9465988.82|C91276418  |9465988.82   |0.0           |C1220805115|0.0           |9465988.82    |1      |0             |\n",
            "|35  |TRANSFER|9465988.82|C851016578 |9465988.82   |0.0           |C1650562969|0.0           |0.0           |1      |0             |\n",
            "+----+--------+----------+-----------+-------------+--------------+-----------+--------------+--------------+-------+--------------+\n",
            "only showing top 10 rows\n",
            "\n"
          ]
        }
      ]
    },
    {
      "cell_type": "code",
      "source": [
        "output_path = \"/content/higherfrauds.csv\"\n",
        "\n",
        "# A) Montos más Altos de Fraudes\n",
        "highest_fraud_amounts = fraudulent_transactions.orderBy(col(\"amount\").desc())\n",
        "highest_fraud_amounts.show(10, truncate=False)\n",
        "\n",
        "# Guardar el DataFrame en un archivo CSV\n",
        "highest_fraud_amounts.write.csv(output_path, header=True, mode=\"overwrite\")\n",
        "\n",
        "print(f\"El DataFrame se ha guardado exitosamente en: {output_path}\")\n"
      ],
      "metadata": {
        "colab": {
          "base_uri": "https://localhost:8080/"
        },
        "id": "t-rWbv4S5AnA",
        "outputId": "e4d116e6-e353-42ed-f41e-036e83f5019b"
      },
      "execution_count": null,
      "outputs": [
        {
          "output_type": "stream",
          "name": "stdout",
          "text": [
            "+----+--------+----------+-----------+-------------+--------------+-----------+--------------+--------------+-------+--------------+\n",
            "|step|type    |amount    |nameOrig   |oldbalanceOrg|newbalanceOrig|nameDest   |oldbalanceDest|newbalanceDest|isFraud|isFlaggedFraud|\n",
            "+----+--------+----------+-----------+-------------+--------------+-----------+--------------+--------------+-------+--------------+\n",
            "|4   |TRANSFER|1.0E7     |C7162498   |1.293041844E7|2930418.44    |C945327594 |0.0           |0.0           |1      |0             |\n",
            "|19  |CASH_OUT|1.0E7     |C2050703310|1.0E7        |0.0           |C1622860679|504326.62     |1.03424179E7  |1      |0             |\n",
            "|19  |TRANSFER|1.0E7     |C416779475 |1.186100832E7|1861008.32    |C380259496 |0.0           |0.0           |1      |0             |\n",
            "|33  |TRANSFER|1.0E7     |C1439740840|1.988781906E7|9887819.06    |C875288652 |0.0           |0.0           |1      |0             |\n",
            "|33  |CASH_OUT|1.0E7     |C29118015  |1.0E7        |0.0           |C1379703840|0.0           |1.0E7         |1      |0             |\n",
            "|4   |CASH_OUT|1.0E7     |C351297720 |1.0E7        |0.0           |C766681183 |0.0           |9941904.21    |1      |0             |\n",
            "|33  |CASH_OUT|9887819.06|C1071702423|9887819.06   |0.0           |C28783325  |801913.95     |1.016520011E7 |1      |0             |\n",
            "|33  |TRANSFER|9887819.06|C1548903046|9887819.06   |0.0           |C2065423383|0.0           |0.0           |1      |0             |\n",
            "|35  |CASH_OUT|9465988.82|C91276418  |9465988.82   |0.0           |C1220805115|0.0           |9465988.82    |1      |0             |\n",
            "|35  |TRANSFER|9465988.82|C851016578 |9465988.82   |0.0           |C1650562969|0.0           |0.0           |1      |0             |\n",
            "+----+--------+----------+-----------+-------------+--------------+-----------+--------------+--------------+-------+--------------+\n",
            "only showing top 10 rows\n",
            "\n",
            "El DataFrame se ha guardado exitosamente en: /content/higherfrauds.csv\n"
          ]
        }
      ]
    },
    {
      "cell_type": "code",
      "source": [
        "output_path_single_file = \"/content/higherfrauds_single_file.csv\"\n",
        "\n",
        "# A) Montos más Altos de Fraudes\n",
        "highest_fraud_amounts = fraudulent_transactions.orderBy(col(\"amount\").desc())\n",
        "highest_fraud_amounts.show(10, truncate=False)\n",
        "\n",
        "# Guardar el DataFrame en un solo archivo CSV\n",
        "highest_fraud_amounts.coalesce(1).write.csv(output_path_single_file, header=True, mode=\"overwrite\")\n",
        "\n",
        "print(f\"El DataFrame se ha guardado exitosamente en: {output_path_single_file}\")\n"
      ],
      "metadata": {
        "colab": {
          "base_uri": "https://localhost:8080/"
        },
        "id": "k-ip6rJ35d9N",
        "outputId": "3590b9c3-19b7-43db-d0ab-6c7555744614"
      },
      "execution_count": null,
      "outputs": [
        {
          "output_type": "stream",
          "name": "stdout",
          "text": [
            "+----+--------+----------+-----------+-------------+--------------+-----------+--------------+--------------+-------+--------------+\n",
            "|step|type    |amount    |nameOrig   |oldbalanceOrg|newbalanceOrig|nameDest   |oldbalanceDest|newbalanceDest|isFraud|isFlaggedFraud|\n",
            "+----+--------+----------+-----------+-------------+--------------+-----------+--------------+--------------+-------+--------------+\n",
            "|4   |TRANSFER|1.0E7     |C7162498   |1.293041844E7|2930418.44    |C945327594 |0.0           |0.0           |1      |0             |\n",
            "|19  |CASH_OUT|1.0E7     |C2050703310|1.0E7        |0.0           |C1622860679|504326.62     |1.03424179E7  |1      |0             |\n",
            "|19  |TRANSFER|1.0E7     |C416779475 |1.186100832E7|1861008.32    |C380259496 |0.0           |0.0           |1      |0             |\n",
            "|33  |TRANSFER|1.0E7     |C1439740840|1.988781906E7|9887819.06    |C875288652 |0.0           |0.0           |1      |0             |\n",
            "|33  |CASH_OUT|1.0E7     |C29118015  |1.0E7        |0.0           |C1379703840|0.0           |1.0E7         |1      |0             |\n",
            "|4   |CASH_OUT|1.0E7     |C351297720 |1.0E7        |0.0           |C766681183 |0.0           |9941904.21    |1      |0             |\n",
            "|33  |CASH_OUT|9887819.06|C1071702423|9887819.06   |0.0           |C28783325  |801913.95     |1.016520011E7 |1      |0             |\n",
            "|33  |TRANSFER|9887819.06|C1548903046|9887819.06   |0.0           |C2065423383|0.0           |0.0           |1      |0             |\n",
            "|35  |CASH_OUT|9465988.82|C91276418  |9465988.82   |0.0           |C1220805115|0.0           |9465988.82    |1      |0             |\n",
            "|35  |TRANSFER|9465988.82|C851016578 |9465988.82   |0.0           |C1650562969|0.0           |0.0           |1      |0             |\n",
            "+----+--------+----------+-----------+-------------+--------------+-----------+--------------+--------------+-------+--------------+\n",
            "only showing top 10 rows\n",
            "\n",
            "El DataFrame se ha guardado exitosamente en: /content/higherfrauds_single_file.csv\n"
          ]
        }
      ]
    },
    {
      "cell_type": "code",
      "source": [
        "highest_fraud_amounts.show()\n"
      ],
      "metadata": {
        "colab": {
          "base_uri": "https://localhost:8080/"
        },
        "id": "VxRkaQw36N_W",
        "outputId": "6039eb71-3bea-4a21-cb07-607370a42b5b"
      },
      "execution_count": null,
      "outputs": [
        {
          "output_type": "stream",
          "name": "stdout",
          "text": [
            "+----+--------+----------+-----------+-------------+--------------+-----------+--------------+--------------+-------+--------------+\n",
            "|step|    type|    amount|   nameOrig|oldbalanceOrg|newbalanceOrig|   nameDest|oldbalanceDest|newbalanceDest|isFraud|isFlaggedFraud|\n",
            "+----+--------+----------+-----------+-------------+--------------+-----------+--------------+--------------+-------+--------------+\n",
            "|  33|TRANSFER|     1.0E7|C1439740840|1.988781906E7|    9887819.06| C875288652|           0.0|           0.0|      1|             0|\n",
            "|  33|CASH_OUT|     1.0E7|  C29118015|        1.0E7|           0.0|C1379703840|           0.0|         1.0E7|      1|             0|\n",
            "|  19|TRANSFER|     1.0E7| C416779475|1.186100832E7|    1861008.32| C380259496|           0.0|           0.0|      1|             0|\n",
            "|   4|TRANSFER|     1.0E7|   C7162498|1.293041844E7|    2930418.44| C945327594|           0.0|           0.0|      1|             0|\n",
            "|  19|CASH_OUT|     1.0E7|C2050703310|        1.0E7|           0.0|C1622860679|     504326.62|  1.03424179E7|      1|             0|\n",
            "|   4|CASH_OUT|     1.0E7| C351297720|        1.0E7|           0.0| C766681183|           0.0|    9941904.21|      1|             0|\n",
            "|  33|TRANSFER|9887819.06|C1548903046|   9887819.06|           0.0|C2065423383|           0.0|           0.0|      1|             0|\n",
            "|  33|CASH_OUT|9887819.06|C1071702423|   9887819.06|           0.0|  C28783325|     801913.95| 1.016520011E7|      1|             0|\n",
            "|  35|TRANSFER|9465988.82| C851016578|   9465988.82|           0.0|C1650562969|           0.0|           0.0|      1|             0|\n",
            "|  35|CASH_OUT|9465988.82|  C91276418|   9465988.82|           0.0|C1220805115|           0.0|    9465988.82|      1|             0|\n",
            "|  39|TRANSFER| 7937954.2|C2057200986|    7937954.2|           0.0|C1124319645|           0.0|           0.0|      1|             0|\n",
            "|  39|CASH_OUT| 7937954.2|C1581001485|    7937954.2|           0.0|C2012612648|    2716480.56| 1.065443476E7|      1|             0|\n",
            "|  38|CASH_OUT|7567170.36|C1891733615|   7567170.36|           0.0|C1599314459|      345425.4|    7912595.75|      1|             0|\n",
            "|  38|TRANSFER|7567170.36|C1215509660|   7567170.36|           0.0|  C96222488|           0.0|           0.0|      1|             0|\n",
            "|  33|TRANSFER| 6648389.9|  C67311634|    6648389.9|           0.0| C674603923|           0.0|           0.0|      1|             0|\n",
            "|  33|CASH_OUT| 6648389.9|C1612816859|    6648389.9|           0.0| C836514715|    2609209.55|    9257599.45|      1|             0|\n",
            "|  40|CASH_OUT|6188772.44|C1440649048|   6188772.44|           0.0|C1477641326|    6056796.74| 1.244283661E7|      1|             0|\n",
            "|  40|TRANSFER|6188772.44| C979937832|   6188772.44|           0.0|C1787596520|           0.0|           0.0|      1|             0|\n",
            "|  13|TRANSFER|6188514.81| C135832352|   6188514.81|           0.0|C2009346140|           0.0|           0.0|      1|             0|\n",
            "|  13|CASH_OUT|6188514.81| C686187434|   6188514.81|           0.0|C1562904239|     381607.21|    6424681.56|      1|             0|\n",
            "+----+--------+----------+-----------+-------------+--------------+-----------+--------------+--------------+-------+--------------+\n",
            "only showing top 20 rows\n",
            "\n"
          ]
        }
      ]
    },
    {
      "cell_type": "code",
      "source": [
        "from pyspark.sql.functions import col\n",
        "\n",
        "# A) Montos más Altos de Fraudes\n",
        "highest_fraud_amounts = fraudulent_transactions.orderBy(col(\"amount\").desc())\n",
        "\n",
        "# Convertir la columna \"amount\" a tipo Decimal\n",
        "highest_fraud_amounts = highest_fraud_amounts.withColumn(\"amount\", col(\"amount\").cast(\"decimal(18, 2)\"))\n",
        "\n",
        "# Mostrar el DataFrame con los montos convertidos\n",
        "highest_fraud_amounts.show(10, truncate=False)\n"
      ],
      "metadata": {
        "colab": {
          "base_uri": "https://localhost:8080/"
        },
        "id": "Ix3HVny38S2g",
        "outputId": "1bbe112a-8034-4f52-9cbf-fe9f66ab2bd7"
      },
      "execution_count": null,
      "outputs": [
        {
          "output_type": "stream",
          "name": "stdout",
          "text": [
            "+----+--------+-----------+-----------+-------------+--------------+-----------+--------------+--------------+-------+--------------+\n",
            "|step|type    |amount     |nameOrig   |oldbalanceOrg|newbalanceOrig|nameDest   |oldbalanceDest|newbalanceDest|isFraud|isFlaggedFraud|\n",
            "+----+--------+-----------+-----------+-------------+--------------+-----------+--------------+--------------+-------+--------------+\n",
            "|4   |TRANSFER|10000000.00|C7162498   |1.293041844E7|2930418.44    |C945327594 |0.0           |0.0           |1      |0             |\n",
            "|19  |CASH_OUT|10000000.00|C2050703310|1.0E7        |0.0           |C1622860679|504326.62     |1.03424179E7  |1      |0             |\n",
            "|19  |TRANSFER|10000000.00|C416779475 |1.186100832E7|1861008.32    |C380259496 |0.0           |0.0           |1      |0             |\n",
            "|33  |TRANSFER|10000000.00|C1439740840|1.988781906E7|9887819.06    |C875288652 |0.0           |0.0           |1      |0             |\n",
            "|33  |CASH_OUT|10000000.00|C29118015  |1.0E7        |0.0           |C1379703840|0.0           |1.0E7         |1      |0             |\n",
            "|4   |CASH_OUT|10000000.00|C351297720 |1.0E7        |0.0           |C766681183 |0.0           |9941904.21    |1      |0             |\n",
            "|33  |CASH_OUT|9887819.06 |C1071702423|9887819.06   |0.0           |C28783325  |801913.95     |1.016520011E7 |1      |0             |\n",
            "|33  |TRANSFER|9887819.06 |C1548903046|9887819.06   |0.0           |C2065423383|0.0           |0.0           |1      |0             |\n",
            "|35  |CASH_OUT|9465988.82 |C91276418  |9465988.82   |0.0           |C1220805115|0.0           |9465988.82    |1      |0             |\n",
            "|35  |TRANSFER|9465988.82 |C851016578 |9465988.82   |0.0           |C1650562969|0.0           |0.0           |1      |0             |\n",
            "+----+--------+-----------+-----------+-------------+--------------+-----------+--------------+--------------+-------+--------------+\n",
            "only showing top 10 rows\n",
            "\n"
          ]
        }
      ]
    },
    {
      "cell_type": "code",
      "source": [
        "from pyspark.sql.functions import col\n",
        "\n",
        "# Asumiendo que tu DataFrame se llama highest_fraud_amounts\n",
        "highest_fraud_amounts = highest_fraud_amounts.withColumn(\"amount\", col(\"amount\").cast(\"double\"))\n",
        "\n",
        "# Mostrar el DataFrame con los montos convertidos\n",
        "highest_fraud_amounts.show(10, truncate=False)\n"
      ],
      "metadata": {
        "colab": {
          "base_uri": "https://localhost:8080/"
        },
        "id": "y_I3ZrA18Z7f",
        "outputId": "0d74c73b-cd8f-4f42-ad60-112ed89a2e77"
      },
      "execution_count": null,
      "outputs": [
        {
          "output_type": "stream",
          "name": "stdout",
          "text": [
            "+----+--------+----------+-----------+-------------+--------------+-----------+--------------+--------------+-------+--------------+\n",
            "|step|type    |amount    |nameOrig   |oldbalanceOrg|newbalanceOrig|nameDest   |oldbalanceDest|newbalanceDest|isFraud|isFlaggedFraud|\n",
            "+----+--------+----------+-----------+-------------+--------------+-----------+--------------+--------------+-------+--------------+\n",
            "|4   |TRANSFER|1.0E7     |C7162498   |1.293041844E7|2930418.44    |C945327594 |0.0           |0.0           |1      |0             |\n",
            "|19  |CASH_OUT|1.0E7     |C2050703310|1.0E7        |0.0           |C1622860679|504326.62     |1.03424179E7  |1      |0             |\n",
            "|19  |TRANSFER|1.0E7     |C416779475 |1.186100832E7|1861008.32    |C380259496 |0.0           |0.0           |1      |0             |\n",
            "|33  |TRANSFER|1.0E7     |C1439740840|1.988781906E7|9887819.06    |C875288652 |0.0           |0.0           |1      |0             |\n",
            "|33  |CASH_OUT|1.0E7     |C29118015  |1.0E7        |0.0           |C1379703840|0.0           |1.0E7         |1      |0             |\n",
            "|4   |CASH_OUT|1.0E7     |C351297720 |1.0E7        |0.0           |C766681183 |0.0           |9941904.21    |1      |0             |\n",
            "|33  |CASH_OUT|9887819.06|C1071702423|9887819.06   |0.0           |C28783325  |801913.95     |1.016520011E7 |1      |0             |\n",
            "|33  |TRANSFER|9887819.06|C1548903046|9887819.06   |0.0           |C2065423383|0.0           |0.0           |1      |0             |\n",
            "|35  |CASH_OUT|9465988.82|C91276418  |9465988.82   |0.0           |C1220805115|0.0           |9465988.82    |1      |0             |\n",
            "|35  |TRANSFER|9465988.82|C851016578 |9465988.82   |0.0           |C1650562969|0.0           |0.0           |1      |0             |\n",
            "+----+--------+----------+-----------+-------------+--------------+-----------+--------------+--------------+-------+--------------+\n",
            "only showing top 10 rows\n",
            "\n"
          ]
        }
      ]
    },
    {
      "cell_type": "code",
      "source": [
        "import pandas as pd\n",
        "\n",
        "# Convertir el DataFrame de Spark a Pandas\n",
        "pandas_df = highest_fraud_amounts.toPandas()\n",
        "\n",
        "# Guardar el DataFrame de Pandas en un archivo CSV\n",
        "pandas_df.to_csv(\"/content/topandas.csv\", index=False)\n"
      ],
      "metadata": {
        "id": "l2CQ4xC08lWS"
      },
      "execution_count": null,
      "outputs": []
    },
    {
      "cell_type": "code",
      "source": [
        "from pyspark.sql import SparkSession\n",
        "\n",
        "# Crear una sesión de Spark\n",
        "spark = SparkSession.builder.appName(\"FraudDetection\").getOrCreate()\n",
        "\n",
        "# Cargar el conjunto de datos desde el archivo CSV en Colab\n",
        "file_path = \"Fraud-content.csv\"  # Asegúrate de que el archivo esté en el mismo directorio que tu notebook Colab\n",
        "new_df = spark.read.csv(file_path, header=True, inferSchema=True)\n",
        "\n",
        "# Mostrar el esquema y las primeras filas del DataFrame\n",
        "df.printSchema()\n",
        "df.show(5)"
      ],
      "metadata": {
        "colab": {
          "base_uri": "https://localhost:8080/",
          "height": 383
        },
        "id": "FMP1xg_g9Cbs",
        "outputId": "73c94116-cd3c-4db2-aff3-f2386cefc7f2"
      },
      "execution_count": null,
      "outputs": [
        {
          "output_type": "error",
          "ename": "ModuleNotFoundError",
          "evalue": "No module named 'pyspark'",
          "traceback": [
            "\u001b[0;31m---------------------------------------------------------------------------\u001b[0m",
            "\u001b[0;31mModuleNotFoundError\u001b[0m                       Traceback (most recent call last)",
            "\u001b[0;32m<ipython-input-1-c28b313cd876>\u001b[0m in \u001b[0;36m<cell line: 1>\u001b[0;34m()\u001b[0m\n\u001b[0;32m----> 1\u001b[0;31m \u001b[0;32mfrom\u001b[0m \u001b[0mpyspark\u001b[0m\u001b[0;34m.\u001b[0m\u001b[0msql\u001b[0m \u001b[0;32mimport\u001b[0m \u001b[0mSparkSession\u001b[0m\u001b[0;34m\u001b[0m\u001b[0;34m\u001b[0m\u001b[0m\n\u001b[0m\u001b[1;32m      2\u001b[0m \u001b[0;34m\u001b[0m\u001b[0m\n\u001b[1;32m      3\u001b[0m \u001b[0;31m# Crear una sesión de Spark\u001b[0m\u001b[0;34m\u001b[0m\u001b[0;34m\u001b[0m\u001b[0m\n\u001b[1;32m      4\u001b[0m \u001b[0mspark\u001b[0m \u001b[0;34m=\u001b[0m \u001b[0mSparkSession\u001b[0m\u001b[0;34m.\u001b[0m\u001b[0mbuilder\u001b[0m\u001b[0;34m.\u001b[0m\u001b[0mappName\u001b[0m\u001b[0;34m(\u001b[0m\u001b[0;34m\"FraudDetection\"\u001b[0m\u001b[0;34m)\u001b[0m\u001b[0;34m.\u001b[0m\u001b[0mgetOrCreate\u001b[0m\u001b[0;34m(\u001b[0m\u001b[0;34m)\u001b[0m\u001b[0;34m\u001b[0m\u001b[0;34m\u001b[0m\u001b[0m\n\u001b[1;32m      5\u001b[0m \u001b[0;34m\u001b[0m\u001b[0m\n",
            "\u001b[0;31mModuleNotFoundError\u001b[0m: No module named 'pyspark'",
            "",
            "\u001b[0;31m---------------------------------------------------------------------------\u001b[0;32m\nNOTE: If your import is failing due to a missing package, you can\nmanually install dependencies using either !pip or !apt.\n\nTo view examples of installing some common dependencies, click the\n\"Open Examples\" button below.\n\u001b[0;31m---------------------------------------------------------------------------\u001b[0m\n"
          ],
          "errorDetails": {
            "actions": [
              {
                "action": "open_url",
                "actionText": "Open Examples",
                "url": "/notebooks/snippets/importing_libraries.ipynb"
              }
            ]
          }
        }
      ]
    },
    {
      "cell_type": "code",
      "source": [],
      "metadata": {
        "id": "mLYcNMzwli1b"
      },
      "execution_count": null,
      "outputs": []
    }
  ]
}